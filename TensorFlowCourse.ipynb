{
 "cells": [
  {
   "metadata": {},
   "cell_type": "markdown",
   "source": "<h3> 6 -<b>NumPy Array<b> <h3>\n",
   "id": "56a3f45700b9ac8a"
  },
  {
   "metadata": {},
   "cell_type": "code",
   "source": "import numpy as np  ",
   "id": "fbc121e30a2defb3",
   "outputs": [],
   "execution_count": null
  },
  {
   "metadata": {},
   "cell_type": "code",
   "source": "mylist = [1,2,3]",
   "id": "c35f82d30fc30648",
   "outputs": [],
   "execution_count": null
  },
  {
   "metadata": {},
   "cell_type": "code",
   "source": "np.array(mylist)",
   "id": "721a3048236f494e",
   "outputs": [],
   "execution_count": null
  },
  {
   "metadata": {},
   "cell_type": "code",
   "source": "nested_list = [[1,2],[3,4],[5,6]]",
   "id": "91621ccb9bd5f88a",
   "outputs": [],
   "execution_count": null
  },
  {
   "metadata": {},
   "cell_type": "code",
   "source": "np.array(nested_list)",
   "id": "bab3769836d40a96",
   "outputs": [],
   "execution_count": null
  },
  {
   "metadata": {},
   "cell_type": "code",
   "source": "np.arange(0,10)",
   "id": "e3b82b06d50060a6",
   "outputs": [],
   "execution_count": null
  },
  {
   "metadata": {},
   "cell_type": "code",
   "source": "np.arange(0,11,2)",
   "id": "e354b7cdebc19b63",
   "outputs": [],
   "execution_count": null
  },
  {
   "metadata": {},
   "cell_type": "code",
   "source": "np.zeros(3)",
   "id": "8034e9e243f35aa0",
   "outputs": [],
   "execution_count": null
  },
  {
   "metadata": {},
   "cell_type": "code",
   "source": "np.zeros((4,10))",
   "id": "2276f9b1c8b3dbcc",
   "outputs": [],
   "execution_count": null
  },
  {
   "metadata": {},
   "cell_type": "code",
   "source": "np.ones(3)",
   "id": "20ebff9e781e965c",
   "outputs": [],
   "execution_count": null
  },
  {
   "metadata": {},
   "cell_type": "code",
   "source": "np.ones((4,4))",
   "id": "fd105ebe9e2f62fd",
   "outputs": [],
   "execution_count": null
  },
  {
   "metadata": {},
   "cell_type": "code",
   "source": "np.linspace(0,10,21)",
   "id": "fe2510c0e073384c",
   "outputs": [],
   "execution_count": null
  },
  {
   "metadata": {},
   "cell_type": "code",
   "source": "np.eye(5)",
   "id": "5c78c0f9ac5bc22e",
   "outputs": [],
   "execution_count": null
  },
  {
   "metadata": {},
   "cell_type": "code",
   "source": "np.random.rand(2)",
   "id": "515f0d1e52836b3a",
   "outputs": [],
   "execution_count": null
  },
  {
   "metadata": {},
   "cell_type": "code",
   "source": "np.random.rand(3,4)",
   "id": "d279c0e1424ebc00",
   "outputs": [],
   "execution_count": null
  },
  {
   "metadata": {},
   "cell_type": "code",
   "source": "np.random.randn(5,5)",
   "id": "6da73ef1b674c452",
   "outputs": [],
   "execution_count": null
  },
  {
   "metadata": {},
   "cell_type": "code",
   "source": "np.random.randint(1,100,(15,3)) ##gerar um valor aleatório dentro de um range",
   "id": "c0a50823dc190bc3",
   "outputs": [],
   "execution_count": null
  },
  {
   "metadata": {},
   "cell_type": "code",
   "source": [
    "np.random.seed(42)\n",
    "np.random.rand(4)\n"
   ],
   "id": "57092b3dd68d6393",
   "outputs": [],
   "execution_count": null
  },
  {
   "metadata": {},
   "cell_type": "code",
   "source": "np.random.rand(4)",
   "id": "b94ed0fe37e6e28e",
   "outputs": [],
   "execution_count": null
  },
  {
   "metadata": {},
   "cell_type": "code",
   "source": "arr = np.arange(25)",
   "id": "db85f328ca57f691",
   "outputs": [],
   "execution_count": null
  },
  {
   "metadata": {},
   "cell_type": "code",
   "source": "ranarr = np.random.randint(0,50,10)",
   "id": "e872f66dd787bed0",
   "outputs": [],
   "execution_count": null
  },
  {
   "metadata": {},
   "cell_type": "code",
   "source": "arr.shape",
   "id": "4f7f39483ca9a4d6",
   "outputs": [],
   "execution_count": null
  },
  {
   "metadata": {},
   "cell_type": "code",
   "source": "ranarr",
   "id": "3583c8e32721d31f",
   "outputs": [],
   "execution_count": null
  },
  {
   "metadata": {},
   "cell_type": "code",
   "source": "arr.shape",
   "id": "c82ca856027cf273",
   "outputs": [],
   "execution_count": null
  },
  {
   "metadata": {
    "ExecuteTime": {
     "end_time": "2024-10-28T23:53:00.263924Z",
     "start_time": "2024-10-28T23:53:00.241748Z"
    }
   },
   "cell_type": "code",
   "source": " arr.reshape(5,5)",
   "id": "df7366a67597af50",
   "outputs": [
    {
     "data": {
      "text/plain": [
       "array([[ 0,  1,  2,  3,  4],\n",
       "       [ 5,  6,  7,  8,  9],\n",
       "       [10, 11, 12, 13, 14],\n",
       "       [15, 16, 17, 18, 19],\n",
       "       [20, 21, 22, 23, 24]])"
      ]
     },
     "execution_count": 64,
     "metadata": {},
     "output_type": "execute_result"
    }
   ],
   "execution_count": 64
  },
  {
   "metadata": {},
   "cell_type": "code",
   "source": "ranarr",
   "id": "d3e304fe796f25cd",
   "outputs": [],
   "execution_count": null
  },
  {
   "metadata": {},
   "cell_type": "code",
   "source": "ranarr.max() #Max Value",
   "id": "d83c666ba80f4196",
   "outputs": [],
   "execution_count": null
  },
  {
   "metadata": {},
   "cell_type": "code",
   "source": "ranarr.argmax()   #Index of Max value",
   "id": "fa60bd7ffc0e30ea",
   "outputs": [],
   "execution_count": null
  },
  {
   "metadata": {},
   "cell_type": "code",
   "source": "ranarr.min() #min value",
   "id": "590c5ff035fa1ef8",
   "outputs": [],
   "execution_count": null
  },
  {
   "metadata": {},
   "cell_type": "code",
   "source": "ranarr.argmin() # Index of Min Value",
   "id": "ff6e54e6eb771e6b",
   "outputs": [],
   "execution_count": null
  },
  {
   "metadata": {},
   "cell_type": "code",
   "source": "ranarr.dtype",
   "id": "f2c45f52c929a9da",
   "outputs": [],
   "execution_count": null
  },
  {
   "metadata": {},
   "cell_type": "code",
   "source": "myarr = np.random.rand(4)",
   "id": "5d580f178ccdb1db",
   "outputs": [],
   "execution_count": null
  },
  {
   "metadata": {},
   "cell_type": "code",
   "source": "myarr",
   "id": "6c6da6795aa7346d",
   "outputs": [],
   "execution_count": null
  },
  {
   "metadata": {},
   "cell_type": "markdown",
   "source": "<h1> 7 - NumPy Index Selection",
   "id": "7db133fab8188d1b"
  },
  {
   "metadata": {},
   "cell_type": "markdown",
   "source": "",
   "id": "788bed1cec945d37"
  },
  {
   "metadata": {
    "ExecuteTime": {
     "end_time": "2024-10-29T22:11:01.921442Z",
     "start_time": "2024-10-29T22:11:01.752830Z"
    }
   },
   "cell_type": "code",
   "source": "import numpy as np",
   "id": "85872fd5c0eef129",
   "outputs": [],
   "execution_count": 1
  },
  {
   "metadata": {
    "ExecuteTime": {
     "end_time": "2024-10-29T01:01:53.330940Z",
     "start_time": "2024-10-29T01:01:53.327976Z"
    }
   },
   "cell_type": "code",
   "source": "arr = np.arange(0,11)",
   "id": "22b338af2dc7fcc9",
   "outputs": [],
   "execution_count": 2
  },
  {
   "metadata": {
    "ExecuteTime": {
     "end_time": "2024-10-29T01:01:56.267464Z",
     "start_time": "2024-10-29T01:01:56.261139Z"
    }
   },
   "cell_type": "code",
   "source": "arr",
   "id": "aafd4bc862a98eaf",
   "outputs": [
    {
     "data": {
      "text/plain": [
       "array([ 0,  1,  2,  3,  4,  5,  6,  7,  8,  9, 10])"
      ]
     },
     "execution_count": 4,
     "metadata": {},
     "output_type": "execute_result"
    }
   ],
   "execution_count": 4
  },
  {
   "metadata": {
    "ExecuteTime": {
     "end_time": "2024-10-29T01:02:09.305413Z",
     "start_time": "2024-10-29T01:02:09.301080Z"
    }
   },
   "cell_type": "code",
   "source": "arr[8]",
   "id": "6b3e0c30df1e7318",
   "outputs": [
    {
     "data": {
      "text/plain": [
       "8"
      ]
     },
     "execution_count": 5,
     "metadata": {},
     "output_type": "execute_result"
    }
   ],
   "execution_count": 5
  },
  {
   "metadata": {
    "ExecuteTime": {
     "end_time": "2024-10-29T01:02:25.747735Z",
     "start_time": "2024-10-29T01:02:25.742900Z"
    }
   },
   "cell_type": "code",
   "source": "arr[1:5]",
   "id": "b66d4f965afae16f",
   "outputs": [
    {
     "data": {
      "text/plain": [
       "array([1, 2, 3, 4])"
      ]
     },
     "execution_count": 6,
     "metadata": {},
     "output_type": "execute_result"
    }
   ],
   "execution_count": 6
  },
  {
   "metadata": {
    "ExecuteTime": {
     "end_time": "2024-10-29T01:02:40.005555Z",
     "start_time": "2024-10-29T01:02:39.999501Z"
    }
   },
   "cell_type": "code",
   "source": "arr[0:5]",
   "id": "881eb26f596868e6",
   "outputs": [
    {
     "data": {
      "text/plain": [
       "array([0, 1, 2, 3, 4])"
      ]
     },
     "execution_count": 7,
     "metadata": {},
     "output_type": "execute_result"
    }
   ],
   "execution_count": 7
  },
  {
   "metadata": {
    "ExecuteTime": {
     "end_time": "2024-10-29T01:02:51.032475Z",
     "start_time": "2024-10-29T01:02:51.028539Z"
    }
   },
   "cell_type": "code",
   "source": "arr[:5]",
   "id": "a430e6a98d6a0302",
   "outputs": [
    {
     "data": {
      "text/plain": [
       "array([0, 1, 2, 3, 4])"
      ]
     },
     "execution_count": 8,
     "metadata": {},
     "output_type": "execute_result"
    }
   ],
   "execution_count": 8
  },
  {
   "metadata": {
    "ExecuteTime": {
     "end_time": "2024-10-29T01:03:02.696499Z",
     "start_time": "2024-10-29T01:03:02.691473Z"
    }
   },
   "cell_type": "code",
   "source": "arr[5:]",
   "id": "d7bdddb51354d06",
   "outputs": [
    {
     "data": {
      "text/plain": [
       "array([ 5,  6,  7,  8,  9, 10])"
      ]
     },
     "execution_count": 9,
     "metadata": {},
     "output_type": "execute_result"
    }
   ],
   "execution_count": 9
  },
  {
   "metadata": {
    "ExecuteTime": {
     "end_time": "2024-10-29T01:03:57.765843Z",
     "start_time": "2024-10-29T01:03:57.761878Z"
    }
   },
   "cell_type": "code",
   "source": "arr[0:5] = 100",
   "id": "7cf36b50195627e2",
   "outputs": [],
   "execution_count": 11
  },
  {
   "metadata": {
    "ExecuteTime": {
     "end_time": "2024-10-29T01:03:58.632411Z",
     "start_time": "2024-10-29T01:03:58.628366Z"
    }
   },
   "cell_type": "code",
   "source": "arr",
   "id": "892c2dbeee2c0b1e",
   "outputs": [
    {
     "data": {
      "text/plain": [
       "array([100, 100, 100, 100, 100,   5,   6,   7,   8,   9,  10])"
      ]
     },
     "execution_count": 12,
     "metadata": {},
     "output_type": "execute_result"
    }
   ],
   "execution_count": 12
  },
  {
   "metadata": {
    "ExecuteTime": {
     "end_time": "2024-10-29T01:04:17.153826Z",
     "start_time": "2024-10-29T01:04:17.151178Z"
    }
   },
   "cell_type": "code",
   "source": "arr = np.arange(0,11)",
   "id": "4a176aaa7f0e805",
   "outputs": [],
   "execution_count": 13
  },
  {
   "metadata": {
    "ExecuteTime": {
     "end_time": "2024-10-29T01:04:56.177024Z",
     "start_time": "2024-10-29T01:04:56.173701Z"
    }
   },
   "cell_type": "code",
   "source": "slice_off_arr = arr[0:5]",
   "id": "6e45686afd6163f5",
   "outputs": [],
   "execution_count": 16
  },
  {
   "metadata": {
    "ExecuteTime": {
     "end_time": "2024-10-29T01:05:03.307723Z",
     "start_time": "2024-10-29T01:05:03.302739Z"
    }
   },
   "cell_type": "code",
   "source": "slice_off_arr",
   "id": "33388c1fcbdd6b3a",
   "outputs": [
    {
     "data": {
      "text/plain": [
       "array([0, 1, 2, 3, 4])"
      ]
     },
     "execution_count": 17,
     "metadata": {},
     "output_type": "execute_result"
    }
   ],
   "execution_count": 17
  },
  {
   "metadata": {
    "ExecuteTime": {
     "end_time": "2024-10-29T01:05:12.338156Z",
     "start_time": "2024-10-29T01:05:12.334144Z"
    }
   },
   "cell_type": "code",
   "source": "arr",
   "id": "390c8e2831996aa1",
   "outputs": [
    {
     "data": {
      "text/plain": [
       "array([ 0,  1,  2,  3,  4,  5,  6,  7,  8,  9, 10])"
      ]
     },
     "execution_count": 18,
     "metadata": {},
     "output_type": "execute_result"
    }
   ],
   "execution_count": 18
  },
  {
   "metadata": {
    "ExecuteTime": {
     "end_time": "2024-10-29T01:05:24.457500Z",
     "start_time": "2024-10-29T01:05:24.453835Z"
    }
   },
   "cell_type": "code",
   "source": "slice_off_arr[:] = 99",
   "id": "c07f60fbe46d6f17",
   "outputs": [],
   "execution_count": 19
  },
  {
   "metadata": {
    "ExecuteTime": {
     "end_time": "2024-10-29T01:05:32.635364Z",
     "start_time": "2024-10-29T01:05:32.630956Z"
    }
   },
   "cell_type": "code",
   "source": "slice_off_arr",
   "id": "c69babc65c068e45",
   "outputs": [
    {
     "data": {
      "text/plain": [
       "array([99, 99, 99, 99, 99])"
      ]
     },
     "execution_count": 20,
     "metadata": {},
     "output_type": "execute_result"
    }
   ],
   "execution_count": 20
  },
  {
   "metadata": {
    "ExecuteTime": {
     "end_time": "2024-10-29T01:05:35.308373Z",
     "start_time": "2024-10-29T01:05:35.302472Z"
    }
   },
   "cell_type": "code",
   "source": "arr",
   "id": "31b4777cdd95e404",
   "outputs": [
    {
     "data": {
      "text/plain": [
       "array([99, 99, 99, 99, 99,  5,  6,  7,  8,  9, 10])"
      ]
     },
     "execution_count": 21,
     "metadata": {},
     "output_type": "execute_result"
    }
   ],
   "execution_count": 21
  },
  {
   "metadata": {
    "ExecuteTime": {
     "end_time": "2024-10-29T01:06:27.351210Z",
     "start_time": "2024-10-29T01:06:27.348472Z"
    }
   },
   "cell_type": "code",
   "source": "arr_copy = arr.copy()",
   "id": "266aa0caff74a8d5",
   "outputs": [],
   "execution_count": 22
  },
  {
   "metadata": {
    "ExecuteTime": {
     "end_time": "2024-10-29T01:06:42.798275Z",
     "start_time": "2024-10-29T01:06:42.795578Z"
    }
   },
   "cell_type": "code",
   "source": "arr_copy[:]=100",
   "id": "583a79a4ec7e198c",
   "outputs": [],
   "execution_count": 24
  },
  {
   "metadata": {
    "ExecuteTime": {
     "end_time": "2024-10-29T01:06:50.492561Z",
     "start_time": "2024-10-29T01:06:50.488221Z"
    }
   },
   "cell_type": "code",
   "source": "arr_copy",
   "id": "881a900f6ab2e9b9",
   "outputs": [
    {
     "data": {
      "text/plain": [
       "array([100, 100, 100, 100, 100, 100, 100, 100, 100, 100, 100])"
      ]
     },
     "execution_count": 26,
     "metadata": {},
     "output_type": "execute_result"
    }
   ],
   "execution_count": 26
  },
  {
   "metadata": {
    "ExecuteTime": {
     "end_time": "2024-10-29T01:06:55.967761Z",
     "start_time": "2024-10-29T01:06:55.962793Z"
    }
   },
   "cell_type": "code",
   "source": "arr",
   "id": "c670c85009e3e3d3",
   "outputs": [
    {
     "data": {
      "text/plain": [
       "array([99, 99, 99, 99, 99,  5,  6,  7,  8,  9, 10])"
      ]
     },
     "execution_count": 28,
     "metadata": {},
     "output_type": "execute_result"
    }
   ],
   "execution_count": 28
  },
  {
   "metadata": {
    "ExecuteTime": {
     "end_time": "2024-10-29T01:07:52.332248Z",
     "start_time": "2024-10-29T01:07:52.329066Z"
    }
   },
   "cell_type": "code",
   "source": "arr_2d = np.array([[5,10,15],[20,25,30],[35,40,45]])",
   "id": "c3fc4bbda405e5ed",
   "outputs": [],
   "execution_count": 30
  },
  {
   "metadata": {
    "ExecuteTime": {
     "end_time": "2024-10-29T01:08:10.744219Z",
     "start_time": "2024-10-29T01:08:10.739449Z"
    }
   },
   "cell_type": "code",
   "source": "arr_2d",
   "id": "95b96a51ab8277bf",
   "outputs": [
    {
     "data": {
      "text/plain": [
       "array([[ 5, 10, 15],\n",
       "       [20, 25, 30],\n",
       "       [35, 40, 45]])"
      ]
     },
     "execution_count": 32,
     "metadata": {},
     "output_type": "execute_result"
    }
   ],
   "execution_count": 32
  },
  {
   "metadata": {
    "ExecuteTime": {
     "end_time": "2024-10-29T01:08:25.935608Z",
     "start_time": "2024-10-29T01:08:25.931136Z"
    }
   },
   "cell_type": "code",
   "source": "arr_2d.shape",
   "id": "21f71d59226cf6b8",
   "outputs": [
    {
     "data": {
      "text/plain": [
       "(3, 3)"
      ]
     },
     "execution_count": 34,
     "metadata": {},
     "output_type": "execute_result"
    }
   ],
   "execution_count": 34
  },
  {
   "metadata": {
    "ExecuteTime": {
     "end_time": "2024-10-29T01:09:34.218823Z",
     "start_time": "2024-10-29T01:09:34.213408Z"
    }
   },
   "cell_type": "code",
   "source": "arr_2d[0,2]",
   "id": "6c39ae20ba998407",
   "outputs": [
    {
     "data": {
      "text/plain": [
       "15"
      ]
     },
     "execution_count": 51,
     "metadata": {},
     "output_type": "execute_result"
    }
   ],
   "execution_count": 51
  },
  {
   "metadata": {
    "ExecuteTime": {
     "end_time": "2024-10-29T01:10:56.345077Z",
     "start_time": "2024-10-29T01:10:56.340024Z"
    }
   },
   "cell_type": "code",
   "source": "arr_2d[:2,1:]",
   "id": "f58e0481ef970490",
   "outputs": [
    {
     "data": {
      "text/plain": [
       "array([[10, 15],\n",
       "       [25, 30]])"
      ]
     },
     "execution_count": 56,
     "metadata": {},
     "output_type": "execute_result"
    }
   ],
   "execution_count": 56
  },
  {
   "metadata": {
    "ExecuteTime": {
     "end_time": "2024-10-29T01:11:09.913467Z",
     "start_time": "2024-10-29T01:11:09.908423Z"
    }
   },
   "cell_type": "code",
   "source": "arr = np.arange(1,11)",
   "id": "162774ea5529362d",
   "outputs": [],
   "execution_count": 58
  },
  {
   "metadata": {
    "ExecuteTime": {
     "end_time": "2024-10-29T01:11:15.548070Z",
     "start_time": "2024-10-29T01:11:15.543472Z"
    }
   },
   "cell_type": "code",
   "source": "arr",
   "id": "4aac5194c768c1fb",
   "outputs": [
    {
     "data": {
      "text/plain": [
       "array([ 1,  2,  3,  4,  5,  6,  7,  8,  9, 10])"
      ]
     },
     "execution_count": 61,
     "metadata": {},
     "output_type": "execute_result"
    }
   ],
   "execution_count": 61
  },
  {
   "metadata": {
    "ExecuteTime": {
     "end_time": "2024-10-29T01:11:36.390440Z",
     "start_time": "2024-10-29T01:11:36.384493Z"
    }
   },
   "cell_type": "code",
   "source": "arr > 4",
   "id": "6575a10138244529",
   "outputs": [
    {
     "data": {
      "text/plain": [
       "array([False, False, False, False,  True,  True,  True,  True,  True,\n",
       "        True])"
      ]
     },
     "execution_count": 64,
     "metadata": {},
     "output_type": "execute_result"
    }
   ],
   "execution_count": 64
  },
  {
   "metadata": {
    "ExecuteTime": {
     "end_time": "2024-10-29T01:11:44.990416Z",
     "start_time": "2024-10-29T01:11:44.986712Z"
    }
   },
   "cell_type": "code",
   "source": "bool_arr = arr>4",
   "id": "dff5bfc4801df61",
   "outputs": [],
   "execution_count": 66
  },
  {
   "metadata": {
    "ExecuteTime": {
     "end_time": "2024-10-29T01:11:49.808561Z",
     "start_time": "2024-10-29T01:11:49.801716Z"
    }
   },
   "cell_type": "code",
   "source": "bool_arr",
   "id": "c129b5433144eaf6",
   "outputs": [
    {
     "data": {
      "text/plain": [
       "array([False, False, False, False,  True,  True,  True,  True,  True,\n",
       "        True])"
      ]
     },
     "execution_count": 68,
     "metadata": {},
     "output_type": "execute_result"
    }
   ],
   "execution_count": 68
  },
  {
   "metadata": {
    "ExecuteTime": {
     "end_time": "2024-10-29T01:12:30.999187Z",
     "start_time": "2024-10-29T01:12:30.993529Z"
    }
   },
   "cell_type": "code",
   "source": "arr[bool_arr]",
   "id": "dc785057a772dc07",
   "outputs": [
    {
     "data": {
      "text/plain": [
       "array([ 5,  6,  7,  8,  9, 10])"
      ]
     },
     "execution_count": 71,
     "metadata": {},
     "output_type": "execute_result"
    }
   ],
   "execution_count": 71
  },
  {
   "metadata": {
    "ExecuteTime": {
     "end_time": "2024-10-29T01:12:34.156799Z",
     "start_time": "2024-10-29T01:12:34.148029Z"
    }
   },
   "cell_type": "code",
   "source": "arr[arr>4]",
   "id": "39c9f51a6a44abac",
   "outputs": [
    {
     "data": {
      "text/plain": [
       "array([ 5,  6,  7,  8,  9, 10])"
      ]
     },
     "execution_count": 72,
     "metadata": {},
     "output_type": "execute_result"
    }
   ],
   "execution_count": 72
  },
  {
   "metadata": {},
   "cell_type": "markdown",
   "source": "<h1> Numpy Operation <h1>",
   "id": "cfb459443ea52286"
  },
  {
   "metadata": {
    "ExecuteTime": {
     "end_time": "2024-10-30T00:33:48.194555Z",
     "start_time": "2024-10-30T00:33:48.191576Z"
    }
   },
   "cell_type": "code",
   "source": "import numpy as np",
   "id": "f61026d05b8cbbc",
   "outputs": [],
   "execution_count": 2
  },
  {
   "metadata": {
    "ExecuteTime": {
     "end_time": "2024-10-30T00:34:28.044968Z",
     "start_time": "2024-10-30T00:34:28.042203Z"
    }
   },
   "cell_type": "code",
   "source": "arr = np.arange(0,10)",
   "id": "c377e9748a6ef6a6",
   "outputs": [],
   "execution_count": 5
  },
  {
   "metadata": {
    "ExecuteTime": {
     "end_time": "2024-10-30T00:34:33.981027Z",
     "start_time": "2024-10-30T00:34:33.973749Z"
    }
   },
   "cell_type": "code",
   "source": "arr",
   "id": "440e80eebc53b3c8",
   "outputs": [
    {
     "data": {
      "text/plain": [
       "array([0, 1, 2, 3, 4, 5, 6, 7, 8, 9])"
      ]
     },
     "execution_count": 7,
     "metadata": {},
     "output_type": "execute_result"
    }
   ],
   "execution_count": 7
  },
  {
   "metadata": {
    "ExecuteTime": {
     "end_time": "2024-10-30T00:35:15.719717Z",
     "start_time": "2024-10-30T00:35:15.715108Z"
    }
   },
   "cell_type": "code",
   "source": "np.sin(arr)",
   "id": "ed43737bc7f24944",
   "outputs": [
    {
     "data": {
      "text/plain": [
       "array([ 0.        ,  0.84147098,  0.90929743,  0.14112001, -0.7568025 ,\n",
       "       -0.95892427, -0.2794155 ,  0.6569866 ,  0.98935825,  0.41211849])"
      ]
     },
     "execution_count": 11,
     "metadata": {},
     "output_type": "execute_result"
    }
   ],
   "execution_count": 11
  },
  {
   "metadata": {
    "ExecuteTime": {
     "end_time": "2024-10-30T00:35:21.766530Z",
     "start_time": "2024-10-30T00:35:21.761887Z"
    }
   },
   "cell_type": "code",
   "source": "np.log(arr)",
   "id": "42db31071baf1f94",
   "outputs": [
    {
     "name": "stderr",
     "output_type": "stream",
     "text": [
      "/tmp/ipykernel_5456/2931416741.py:1: RuntimeWarning: divide by zero encountered in log\n",
      "  np.log(arr)\n"
     ]
    },
    {
     "data": {
      "text/plain": [
       "array([      -inf, 0.        , 0.69314718, 1.09861229, 1.38629436,\n",
       "       1.60943791, 1.79175947, 1.94591015, 2.07944154, 2.19722458])"
      ]
     },
     "execution_count": 13,
     "metadata": {},
     "output_type": "execute_result"
    }
   ],
   "execution_count": 13
  },
  {
   "metadata": {
    "ExecuteTime": {
     "end_time": "2024-10-30T00:35:31.112496Z",
     "start_time": "2024-10-30T00:35:31.107255Z"
    }
   },
   "cell_type": "code",
   "source": "arr",
   "id": "1ae2e4d726c8ff29",
   "outputs": [
    {
     "data": {
      "text/plain": [
       "array([0, 1, 2, 3, 4, 5, 6, 7, 8, 9])"
      ]
     },
     "execution_count": 15,
     "metadata": {},
     "output_type": "execute_result"
    }
   ],
   "execution_count": 15
  },
  {
   "metadata": {
    "ExecuteTime": {
     "end_time": "2024-10-30T00:35:36.088749Z",
     "start_time": "2024-10-30T00:35:36.082951Z"
    }
   },
   "cell_type": "code",
   "source": "arr.sum()",
   "id": "4c18b7e21ff6b30b",
   "outputs": [
    {
     "data": {
      "text/plain": [
       "45"
      ]
     },
     "execution_count": 17,
     "metadata": {},
     "output_type": "execute_result"
    }
   ],
   "execution_count": 17
  },
  {
   "metadata": {
    "ExecuteTime": {
     "end_time": "2024-10-30T00:35:42.264164Z",
     "start_time": "2024-10-30T00:35:42.259329Z"
    }
   },
   "cell_type": "code",
   "source": "arr.mean()",
   "id": "35d8c94a381c0880",
   "outputs": [
    {
     "data": {
      "text/plain": [
       "4.5"
      ]
     },
     "execution_count": 19,
     "metadata": {},
     "output_type": "execute_result"
    }
   ],
   "execution_count": 19
  },
  {
   "metadata": {
    "ExecuteTime": {
     "end_time": "2024-10-30T00:35:45.013311Z",
     "start_time": "2024-10-30T00:35:45.009382Z"
    }
   },
   "cell_type": "code",
   "source": "arr.max()",
   "id": "59b0475f42eed250",
   "outputs": [
    {
     "data": {
      "text/plain": [
       "9"
      ]
     },
     "execution_count": 20,
     "metadata": {},
     "output_type": "execute_result"
    }
   ],
   "execution_count": 20
  },
  {
   "metadata": {
    "ExecuteTime": {
     "end_time": "2024-10-30T00:35:49.486517Z",
     "start_time": "2024-10-30T00:35:49.476693Z"
    }
   },
   "cell_type": "code",
   "source": "arr.var()",
   "id": "18ff1e3ea6773f9c",
   "outputs": [
    {
     "data": {
      "text/plain": [
       "8.25"
      ]
     },
     "execution_count": 21,
     "metadata": {},
     "output_type": "execute_result"
    }
   ],
   "execution_count": 21
  },
  {
   "metadata": {
    "ExecuteTime": {
     "end_time": "2024-10-30T00:36:15.409721Z",
     "start_time": "2024-10-30T00:36:15.404500Z"
    }
   },
   "cell_type": "code",
   "source": "arr.std()",
   "id": "6ba2677c18df4f75",
   "outputs": [
    {
     "data": {
      "text/plain": [
       "2.8722813232690143"
      ]
     },
     "execution_count": 24,
     "metadata": {},
     "output_type": "execute_result"
    }
   ],
   "execution_count": 24
  },
  {
   "metadata": {
    "ExecuteTime": {
     "end_time": "2024-10-30T00:37:05.441777Z",
     "start_time": "2024-10-30T00:37:05.435432Z"
    }
   },
   "cell_type": "code",
   "source": "arr2d = np.arange(0,25).reshape(5,5)",
   "id": "77499ee53fa00782",
   "outputs": [],
   "execution_count": 31
  },
  {
   "metadata": {
    "ExecuteTime": {
     "end_time": "2024-10-30T00:37:20.144436Z",
     "start_time": "2024-10-30T00:37:20.137746Z"
    }
   },
   "cell_type": "code",
   "source": "arr2d.shape",
   "id": "fd1c2b54334b691f",
   "outputs": [
    {
     "data": {
      "text/plain": [
       "(5, 5)"
      ]
     },
     "execution_count": 34,
     "metadata": {},
     "output_type": "execute_result"
    }
   ],
   "execution_count": 34
  },
  {
   "metadata": {
    "ExecuteTime": {
     "end_time": "2024-10-30T00:37:26.344757Z",
     "start_time": "2024-10-30T00:37:26.336770Z"
    }
   },
   "cell_type": "code",
   "source": "arr2d",
   "id": "eeeb4d718b85f5b",
   "outputs": [
    {
     "data": {
      "text/plain": [
       "array([[ 0,  1,  2,  3,  4],\n",
       "       [ 5,  6,  7,  8,  9],\n",
       "       [10, 11, 12, 13, 14],\n",
       "       [15, 16, 17, 18, 19],\n",
       "       [20, 21, 22, 23, 24]])"
      ]
     },
     "execution_count": 36,
     "metadata": {},
     "output_type": "execute_result"
    }
   ],
   "execution_count": 36
  },
  {
   "metadata": {
    "ExecuteTime": {
     "end_time": "2024-10-30T00:37:57.043201Z",
     "start_time": "2024-10-30T00:37:57.036209Z"
    }
   },
   "cell_type": "code",
   "source": "arr2d.sum()",
   "id": "9e2276d6090f6d72",
   "outputs": [
    {
     "data": {
      "text/plain": [
       "300"
      ]
     },
     "execution_count": 40,
     "metadata": {},
     "output_type": "execute_result"
    }
   ],
   "execution_count": 40
  },
  {
   "metadata": {
    "ExecuteTime": {
     "end_time": "2024-10-30T00:38:42.440150Z",
     "start_time": "2024-10-30T00:38:42.435632Z"
    }
   },
   "cell_type": "code",
   "source": "arr2d.sum(axis=0)",
   "id": "58ffaab9bd925f3c",
   "outputs": [
    {
     "data": {
      "text/plain": [
       "array([50, 55, 60, 65, 70])"
      ]
     },
     "execution_count": 42,
     "metadata": {},
     "output_type": "execute_result"
    }
   ],
   "execution_count": 42
  },
  {
   "metadata": {
    "ExecuteTime": {
     "end_time": "2024-10-30T00:38:49.529925Z",
     "start_time": "2024-10-30T00:38:49.525986Z"
    }
   },
   "cell_type": "code",
   "source": "arr2d.sum(axis=1)",
   "id": "4bbefec23bf05ba8",
   "outputs": [
    {
     "data": {
      "text/plain": [
       "array([ 10,  35,  60,  85, 110])"
      ]
     },
     "execution_count": 43,
     "metadata": {},
     "output_type": "execute_result"
    }
   ],
   "execution_count": 43
  },
  {
   "metadata": {},
   "cell_type": "code",
   "outputs": [],
   "execution_count": null,
   "source": "",
   "id": "ce95aa3dcc3558ca"
  },
  {
   "metadata": {},
   "cell_type": "markdown",
   "source": [
    "<h1> NumPy Exercises <h1>\n",
    "<h2> Nivel 1: Básico <h2>\n",
    "\n",
    "\n",
    "<h2> <b> 1 - Criação de Arrays <h2>\n"
   ],
   "id": "2c133deec89f42d6"
  },
  {
   "metadata": {},
   "cell_type": "markdown",
   "source": "Import numpy as np",
   "id": "995c6abcf8f82bac"
  },
  {
   "metadata": {
    "ExecuteTime": {
     "end_time": "2024-10-30T00:45:59.398882Z",
     "start_time": "2024-10-30T00:45:59.394911Z"
    }
   },
   "cell_type": "code",
   "source": "import numpy as np",
   "id": "6773af2063279f14",
   "outputs": [],
   "execution_count": 44
  },
  {
   "metadata": {},
   "cell_type": "markdown",
   "source": "Crie um array de números inteiros de 1 a 10.",
   "id": "2a927ad422648163"
  },
  {
   "metadata": {
    "ExecuteTime": {
     "end_time": "2024-10-30T00:46:52.063131Z",
     "start_time": "2024-10-30T00:46:52.057387Z"
    }
   },
   "cell_type": "code",
   "source": "arr = np.arange(0,10)",
   "id": "d8b6b0b60b6311b7",
   "outputs": [],
   "execution_count": 48
  },
  {
   "metadata": {
    "ExecuteTime": {
     "end_time": "2024-10-30T00:46:58.464497Z",
     "start_time": "2024-10-30T00:46:58.456880Z"
    }
   },
   "cell_type": "code",
   "source": "arr",
   "id": "e55777a57197e960",
   "outputs": [
    {
     "data": {
      "text/plain": [
       "array([0, 1, 2, 3, 4, 5, 6, 7, 8, 9])"
      ]
     },
     "execution_count": 49,
     "metadata": {},
     "output_type": "execute_result"
    }
   ],
   "execution_count": 49
  },
  {
   "metadata": {},
   "cell_type": "markdown",
   "source": "Crie um array de zeros com tamanho 5 e um array de uns com tamanho 5.",
   "id": "36702dee831679d8"
  },
  {
   "metadata": {
    "ExecuteTime": {
     "end_time": "2024-10-30T00:47:18.809026Z",
     "start_time": "2024-10-30T00:47:18.804275Z"
    }
   },
   "cell_type": "code",
   "source": "np.zeros(5)",
   "id": "5f238117abe089e0",
   "outputs": [
    {
     "data": {
      "text/plain": [
       "array([0., 0., 0., 0., 0.])"
      ]
     },
     "execution_count": 50,
     "metadata": {},
     "output_type": "execute_result"
    }
   ],
   "execution_count": 50
  },
  {
   "metadata": {
    "ExecuteTime": {
     "end_time": "2024-10-30T00:47:30.457728Z",
     "start_time": "2024-10-30T00:47:30.449662Z"
    }
   },
   "cell_type": "code",
   "source": "np.ones(5)",
   "id": "d0ce41a4850e84a3",
   "outputs": [
    {
     "data": {
      "text/plain": [
       "array([1., 1., 1., 1., 1.])"
      ]
     },
     "execution_count": 51,
     "metadata": {},
     "output_type": "execute_result"
    }
   ],
   "execution_count": 51
  },
  {
   "metadata": {},
   "cell_type": "markdown",
   "source": "Crie um array com valores de 10 a 50, com um passo de 5 entre os valores.",
   "id": "cb3fdee63ddd206f"
  },
  {
   "metadata": {
    "ExecuteTime": {
     "end_time": "2024-10-30T00:49:08.735349Z",
     "start_time": "2024-10-30T00:49:08.729838Z"
    }
   },
   "cell_type": "code",
   "source": "np.linspace(10,50,9)",
   "id": "3539c797811a0ce5",
   "outputs": [
    {
     "data": {
      "text/plain": [
       "array([10., 15., 20., 25., 30., 35., 40., 45., 50.])"
      ]
     },
     "execution_count": 59,
     "metadata": {},
     "output_type": "execute_result"
    }
   ],
   "execution_count": 59
  },
  {
   "metadata": {},
   "cell_type": "markdown",
   "source": "<h2> <b> 2 - Indexação e Slicing <h2>",
   "id": "fa012614825ff526"
  },
  {
   "metadata": {},
   "cell_type": "markdown",
   "source": "Dado um array de números de 1 a 20, selecione os valores de índice 3 a 8.",
   "id": "66d5da7832650219"
  },
  {
   "metadata": {
    "ExecuteTime": {
     "end_time": "2024-10-30T01:01:20.539743Z",
     "start_time": "2024-10-30T01:01:20.535788Z"
    }
   },
   "cell_type": "code",
   "source": "arr= np.arange(1,21)",
   "id": "76c8cdfc4ca55447",
   "outputs": [],
   "execution_count": 123
  },
  {
   "metadata": {
    "ExecuteTime": {
     "end_time": "2024-10-30T01:01:22.439766Z",
     "start_time": "2024-10-30T01:01:22.429381Z"
    }
   },
   "cell_type": "code",
   "source": "arr",
   "id": "538ac032425f3c2a",
   "outputs": [
    {
     "data": {
      "text/plain": [
       "array([ 1,  2,  3,  4,  5,  6,  7,  8,  9, 10, 11, 12, 13, 14, 15, 16, 17,\n",
       "       18, 19, 20])"
      ]
     },
     "execution_count": 124,
     "metadata": {},
     "output_type": "execute_result"
    }
   ],
   "execution_count": 124
  },
  {
   "metadata": {
    "ExecuteTime": {
     "end_time": "2024-10-30T01:01:25.170277Z",
     "start_time": "2024-10-30T01:01:25.159936Z"
    }
   },
   "cell_type": "code",
   "source": "arr[2:8]",
   "id": "9891a17c943fc7c1",
   "outputs": [
    {
     "data": {
      "text/plain": [
       "array([3, 4, 5, 6, 7, 8])"
      ]
     },
     "execution_count": 125,
     "metadata": {},
     "output_type": "execute_result"
    }
   ],
   "execution_count": 125
  },
  {
   "metadata": {},
   "cell_type": "markdown",
   "source": "Inicie com um array np.arange(1, 11). Extraia apenas os números pares.",
   "id": "f5c161c35b81de09"
  },
  {
   "metadata": {
    "ExecuteTime": {
     "end_time": "2024-10-30T01:01:27.073618Z",
     "start_time": "2024-10-30T01:01:27.068060Z"
    }
   },
   "cell_type": "code",
   "source": "arr = np.arange(1,11)",
   "id": "b09f834abd663b63",
   "outputs": [],
   "execution_count": 126
  },
  {
   "metadata": {
    "ExecuteTime": {
     "end_time": "2024-10-30T01:01:33.463212Z",
     "start_time": "2024-10-30T01:01:33.455974Z"
    }
   },
   "cell_type": "code",
   "source": "arr",
   "id": "5ada881b3b674918",
   "outputs": [
    {
     "data": {
      "text/plain": [
       "array([ 1,  2,  3,  4,  5,  6,  7,  8,  9, 10])"
      ]
     },
     "execution_count": 127,
     "metadata": {},
     "output_type": "execute_result"
    }
   ],
   "execution_count": 127
  },
  {
   "metadata": {
    "ExecuteTime": {
     "end_time": "2024-10-30T01:01:35.285997Z",
     "start_time": "2024-10-30T01:01:35.281082Z"
    }
   },
   "cell_type": "code",
   "source": "pares = arr[1::2]",
   "id": "1a170f38c76a8b79",
   "outputs": [],
   "execution_count": 128
  },
  {
   "metadata": {
    "ExecuteTime": {
     "end_time": "2024-10-30T01:01:36.574398Z",
     "start_time": "2024-10-30T01:01:36.566623Z"
    }
   },
   "cell_type": "code",
   "source": "pares",
   "id": "5189ec240bbe9a0a",
   "outputs": [
    {
     "data": {
      "text/plain": [
       "array([ 2,  4,  6,  8, 10])"
      ]
     },
     "execution_count": 129,
     "metadata": {},
     "output_type": "execute_result"
    }
   ],
   "execution_count": 129
  },
  {
   "metadata": {},
   "cell_type": "markdown",
   "source": "Use slicing para alterar todos os valores de índice par para -1.",
   "id": "1698f8582869614f"
  },
  {
   "metadata": {
    "ExecuteTime": {
     "end_time": "2024-10-30T01:01:39.938301Z",
     "start_time": "2024-10-30T01:01:39.931875Z"
    }
   },
   "cell_type": "code",
   "source": "arr[::2] = -1",
   "id": "9bde03913d45ce9",
   "outputs": [],
   "execution_count": 130
  },
  {
   "metadata": {
    "ExecuteTime": {
     "end_time": "2024-10-30T01:01:41.026987Z",
     "start_time": "2024-10-30T01:01:41.017130Z"
    }
   },
   "cell_type": "code",
   "source": "arr",
   "id": "994950dcb84f893d",
   "outputs": [
    {
     "data": {
      "text/plain": [
       "array([-1,  2, -1,  4, -1,  6, -1,  8, -1, 10])"
      ]
     },
     "execution_count": 131,
     "metadata": {},
     "output_type": "execute_result"
    }
   ],
   "execution_count": 131
  },
  {
   "metadata": {},
   "cell_type": "markdown",
   "source": "<h2> <b> 3 - Operações Matemáticas Simples <h2>",
   "id": "69e68e8fad9c1d3a"
  },
  {
   "metadata": {},
   "cell_type": "markdown",
   "source": "Crie dois arrays de 5 números aleatórios e calcule a soma, subtração, multiplicação e divisão entre eles.",
   "id": "702dad1909fe723c"
  },
  {
   "metadata": {
    "ExecuteTime": {
     "end_time": "2024-10-30T01:12:35.213597Z",
     "start_time": "2024-10-30T01:12:35.207372Z"
    }
   },
   "cell_type": "code",
   "source": "arr = np.random.rand(5)",
   "id": "fdf104a9919893db",
   "outputs": [],
   "execution_count": 159
  },
  {
   "metadata": {
    "ExecuteTime": {
     "end_time": "2024-10-30T01:12:40.345420Z",
     "start_time": "2024-10-30T01:12:40.341571Z"
    }
   },
   "cell_type": "code",
   "source": "arr2 = np.random.rand(5)",
   "id": "9913efb4a9fdb4cd",
   "outputs": [],
   "execution_count": 165
  },
  {
   "metadata": {
    "ExecuteTime": {
     "end_time": "2024-10-30T01:12:41.026017Z",
     "start_time": "2024-10-30T01:12:41.021075Z"
    }
   },
   "cell_type": "code",
   "source": "arr",
   "id": "8f1cc8a13d39f533",
   "outputs": [
    {
     "data": {
      "text/plain": [
       "array([0.60320185, 0.14998905, 0.74970869, 0.69622974, 0.85353469])"
      ]
     },
     "execution_count": 166,
     "metadata": {},
     "output_type": "execute_result"
    }
   ],
   "execution_count": 166
  },
  {
   "metadata": {
    "ExecuteTime": {
     "end_time": "2024-10-30T01:12:42.517308Z",
     "start_time": "2024-10-30T01:12:42.508604Z"
    }
   },
   "cell_type": "code",
   "source": "arr2",
   "id": "22b3a5da5e7af167",
   "outputs": [
    {
     "data": {
      "text/plain": [
       "array([0.41488547, 0.42123653, 0.74973276, 0.7252647 , 0.89077439])"
      ]
     },
     "execution_count": 167,
     "metadata": {},
     "output_type": "execute_result"
    }
   ],
   "execution_count": 167
  },
  {
   "metadata": {
    "ExecuteTime": {
     "end_time": "2024-10-30T01:12:54.142736Z",
     "start_time": "2024-10-30T01:12:54.138192Z"
    }
   },
   "cell_type": "code",
   "source": "arr + arr2",
   "id": "ed65539d9ca11a8f",
   "outputs": [
    {
     "data": {
      "text/plain": [
       "array([1.01808732, 0.57122557, 1.49944146, 1.42149443, 1.74430908])"
      ]
     },
     "execution_count": 168,
     "metadata": {},
     "output_type": "execute_result"
    }
   ],
   "execution_count": 168
  },
  {
   "metadata": {
    "ExecuteTime": {
     "end_time": "2024-10-30T01:13:00.692368Z",
     "start_time": "2024-10-30T01:13:00.684085Z"
    }
   },
   "cell_type": "code",
   "source": "arr - arr2",
   "id": "a901a871c9d0267e",
   "outputs": [
    {
     "data": {
      "text/plain": [
       "array([ 1.88316373e-01, -2.71247484e-01, -2.40699852e-05, -2.90349592e-02,\n",
       "       -3.72397030e-02])"
      ]
     },
     "execution_count": 169,
     "metadata": {},
     "output_type": "execute_result"
    }
   ],
   "execution_count": 169
  },
  {
   "metadata": {
    "ExecuteTime": {
     "end_time": "2024-10-30T01:13:13.618292Z",
     "start_time": "2024-10-30T01:13:13.610925Z"
    }
   },
   "cell_type": "code",
   "source": "arr * arr2",
   "id": "37c636caab9d648",
   "outputs": [
    {
     "data": {
      "text/plain": [
       "array([0.25025968, 0.06318086, 0.56208117, 0.50495085, 0.76030685])"
      ]
     },
     "execution_count": 170,
     "metadata": {},
     "output_type": "execute_result"
    }
   ],
   "execution_count": 170
  },
  {
   "metadata": {
    "ExecuteTime": {
     "end_time": "2024-10-30T01:13:20.281845Z",
     "start_time": "2024-10-30T01:13:20.273462Z"
    }
   },
   "cell_type": "code",
   "source": "arr / arr2",
   "id": "b0e536346537ef89",
   "outputs": [
    {
     "data": {
      "text/plain": [
       "array([1.45389965, 0.35606847, 0.9999679 , 0.9599664 , 0.95819401])"
      ]
     },
     "execution_count": 171,
     "metadata": {},
     "output_type": "execute_result"
    }
   ],
   "execution_count": 171
  },
  {
   "metadata": {},
   "cell_type": "markdown",
   "source": "Dado um array np.array([10, 20, 30, 40, 50]), adicione 5 a cada elemento e divida cada um por 10.",
   "id": "e667838c5398e3b1"
  },
  {
   "metadata": {
    "ExecuteTime": {
     "end_time": "2024-10-30T01:15:14.518418Z",
     "start_time": "2024-10-30T01:15:14.515742Z"
    }
   },
   "cell_type": "code",
   "source": "arr3 = np.array([10,20,30,40,50])",
   "id": "783a42904221ac30",
   "outputs": [],
   "execution_count": 180
  },
  {
   "metadata": {
    "ExecuteTime": {
     "end_time": "2024-10-30T01:15:15.371043Z",
     "start_time": "2024-10-30T01:15:15.368476Z"
    }
   },
   "cell_type": "code",
   "source": "resultado = (arr3 + 5)/10",
   "id": "3accbbafb84f448a",
   "outputs": [],
   "execution_count": 181
  },
  {
   "metadata": {
    "ExecuteTime": {
     "end_time": "2024-10-30T01:15:17.414806Z",
     "start_time": "2024-10-30T01:15:17.404228Z"
    }
   },
   "cell_type": "code",
   "source": "resultado",
   "id": "3cb0a8ef386a0048",
   "outputs": [
    {
     "data": {
      "text/plain": [
       "array([1.5, 2.5, 3.5, 4.5, 5.5])"
      ]
     },
     "execution_count": 182,
     "metadata": {},
     "output_type": "execute_result"
    }
   ],
   "execution_count": 182
  }
 ],
 "metadata": {
  "kernelspec": {
   "display_name": "Python 3",
   "language": "python",
   "name": "python3"
  },
  "language_info": {
   "codemirror_mode": {
    "name": "ipython",
    "version": 2
   },
   "file_extension": ".py",
   "mimetype": "text/x-python",
   "name": "python",
   "nbconvert_exporter": "python",
   "pygments_lexer": "ipython2",
   "version": "2.7.6"
  }
 },
 "nbformat": 4,
 "nbformat_minor": 5
}
