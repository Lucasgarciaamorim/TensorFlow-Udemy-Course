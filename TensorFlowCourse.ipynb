{
 "cells": [
  {
   "metadata": {
    "ExecuteTime": {
     "end_time": "2024-10-28T23:26:17.629326Z",
     "start_time": "2024-10-28T23:26:17.546025Z"
    }
   },
   "cell_type": "code",
   "source": "import numpy as np  ",
   "id": "fbc121e30a2defb3",
   "outputs": [],
   "execution_count": 1
  },
  {
   "metadata": {
    "ExecuteTime": {
     "end_time": "2024-10-28T23:27:32.123954Z",
     "start_time": "2024-10-28T23:27:32.121063Z"
    }
   },
   "cell_type": "code",
   "source": "mylist = [1,2,3]",
   "id": "c35f82d30fc30648",
   "outputs": [],
   "execution_count": 3
  },
  {
   "metadata": {
    "ExecuteTime": {
     "end_time": "2024-10-28T23:27:33.350377Z",
     "start_time": "2024-10-28T23:27:33.332016Z"
    }
   },
   "cell_type": "code",
   "source": "np.array(mylist)",
   "id": "721a3048236f494e",
   "outputs": [
    {
     "data": {
      "text/plain": [
       "array([1, 2, 3])"
      ]
     },
     "execution_count": 4,
     "metadata": {},
     "output_type": "execute_result"
    }
   ],
   "execution_count": 4
  },
  {
   "metadata": {
    "ExecuteTime": {
     "end_time": "2024-10-28T23:28:15.834169Z",
     "start_time": "2024-10-28T23:28:15.827613Z"
    }
   },
   "cell_type": "code",
   "source": "nested_list = [[1,2],[3,4],[5,6]]",
   "id": "91621ccb9bd5f88a",
   "outputs": [],
   "execution_count": 5
  },
  {
   "metadata": {
    "ExecuteTime": {
     "end_time": "2024-10-28T23:28:26.749088Z",
     "start_time": "2024-10-28T23:28:26.738911Z"
    }
   },
   "cell_type": "code",
   "source": "np.array(nested_list)",
   "id": "bab3769836d40a96",
   "outputs": [
    {
     "data": {
      "text/plain": [
       "array([[1, 2],\n",
       "       [3, 4],\n",
       "       [5, 6]])"
      ]
     },
     "execution_count": 6,
     "metadata": {},
     "output_type": "execute_result"
    }
   ],
   "execution_count": 6
  },
  {
   "metadata": {
    "ExecuteTime": {
     "end_time": "2024-10-28T23:29:21.195847Z",
     "start_time": "2024-10-28T23:29:21.190890Z"
    }
   },
   "cell_type": "code",
   "source": "np.arange(0,10)",
   "id": "e3b82b06d50060a6",
   "outputs": [
    {
     "data": {
      "text/plain": [
       "array([0, 1, 2, 3, 4, 5, 6, 7, 8, 9])"
      ]
     },
     "execution_count": 7,
     "metadata": {},
     "output_type": "execute_result"
    }
   ],
   "execution_count": 7
  },
  {
   "metadata": {
    "ExecuteTime": {
     "end_time": "2024-10-28T23:29:54.859325Z",
     "start_time": "2024-10-28T23:29:54.851257Z"
    }
   },
   "cell_type": "code",
   "source": "np.arange(0,11,2)",
   "id": "e354b7cdebc19b63",
   "outputs": [
    {
     "data": {
      "text/plain": [
       "array([ 0,  2,  4,  6,  8, 10])"
      ]
     },
     "execution_count": 8,
     "metadata": {},
     "output_type": "execute_result"
    }
   ],
   "execution_count": 8
  },
  {
   "metadata": {
    "ExecuteTime": {
     "end_time": "2024-10-28T23:30:22.841564Z",
     "start_time": "2024-10-28T23:30:22.835346Z"
    }
   },
   "cell_type": "code",
   "source": "np.zeros(3)",
   "id": "8034e9e243f35aa0",
   "outputs": [
    {
     "data": {
      "text/plain": [
       "array([0., 0., 0.])"
      ]
     },
     "execution_count": 9,
     "metadata": {},
     "output_type": "execute_result"
    }
   ],
   "execution_count": 9
  },
  {
   "metadata": {
    "ExecuteTime": {
     "end_time": "2024-10-28T23:31:21.560329Z",
     "start_time": "2024-10-28T23:31:21.553155Z"
    }
   },
   "cell_type": "code",
   "source": "np.zeros((4,10))",
   "id": "2276f9b1c8b3dbcc",
   "outputs": [
    {
     "data": {
      "text/plain": [
       "array([[0., 0., 0., 0., 0., 0., 0., 0., 0., 0.],\n",
       "       [0., 0., 0., 0., 0., 0., 0., 0., 0., 0.],\n",
       "       [0., 0., 0., 0., 0., 0., 0., 0., 0., 0.],\n",
       "       [0., 0., 0., 0., 0., 0., 0., 0., 0., 0.]])"
      ]
     },
     "execution_count": 11,
     "metadata": {},
     "output_type": "execute_result"
    }
   ],
   "execution_count": 11
  },
  {
   "metadata": {
    "ExecuteTime": {
     "end_time": "2024-10-28T23:32:03.120614Z",
     "start_time": "2024-10-28T23:32:03.113382Z"
    }
   },
   "cell_type": "code",
   "source": "np.ones(3)",
   "id": "20ebff9e781e965c",
   "outputs": [
    {
     "data": {
      "text/plain": [
       "array([1., 1., 1.])"
      ]
     },
     "execution_count": 12,
     "metadata": {},
     "output_type": "execute_result"
    }
   ],
   "execution_count": 12
  },
  {
   "metadata": {
    "ExecuteTime": {
     "end_time": "2024-10-28T23:32:19.671458Z",
     "start_time": "2024-10-28T23:32:19.666164Z"
    }
   },
   "cell_type": "code",
   "source": "np.ones((4,4))",
   "id": "fd105ebe9e2f62fd",
   "outputs": [
    {
     "data": {
      "text/plain": [
       "array([[1., 1., 1., 1.],\n",
       "       [1., 1., 1., 1.],\n",
       "       [1., 1., 1., 1.],\n",
       "       [1., 1., 1., 1.]])"
      ]
     },
     "execution_count": 14,
     "metadata": {},
     "output_type": "execute_result"
    }
   ],
   "execution_count": 14
  },
  {
   "metadata": {
    "ExecuteTime": {
     "end_time": "2024-10-28T23:33:41.682480Z",
     "start_time": "2024-10-28T23:33:41.673159Z"
    }
   },
   "cell_type": "code",
   "source": "np.linspace(0,10,21)",
   "id": "fe2510c0e073384c",
   "outputs": [
    {
     "data": {
      "text/plain": [
       "array([ 0. ,  0.5,  1. ,  1.5,  2. ,  2.5,  3. ,  3.5,  4. ,  4.5,  5. ,\n",
       "        5.5,  6. ,  6.5,  7. ,  7.5,  8. ,  8.5,  9. ,  9.5, 10. ])"
      ]
     },
     "execution_count": 19,
     "metadata": {},
     "output_type": "execute_result"
    }
   ],
   "execution_count": 19
  },
  {
   "metadata": {
    "ExecuteTime": {
     "end_time": "2024-10-28T23:34:51.951346Z",
     "start_time": "2024-10-28T23:34:51.944058Z"
    }
   },
   "cell_type": "code",
   "source": "np.eye(5)",
   "id": "5c78c0f9ac5bc22e",
   "outputs": [
    {
     "data": {
      "text/plain": [
       "array([[1., 0., 0., 0., 0.],\n",
       "       [0., 1., 0., 0., 0.],\n",
       "       [0., 0., 1., 0., 0.],\n",
       "       [0., 0., 0., 1., 0.],\n",
       "       [0., 0., 0., 0., 1.]])"
      ]
     },
     "execution_count": 22,
     "metadata": {},
     "output_type": "execute_result"
    }
   ],
   "execution_count": 22
  },
  {
   "metadata": {
    "ExecuteTime": {
     "end_time": "2024-10-28T23:35:49.859154Z",
     "start_time": "2024-10-28T23:35:49.852855Z"
    }
   },
   "cell_type": "code",
   "source": "np.random.rand(2)",
   "id": "515f0d1e52836b3a",
   "outputs": [
    {
     "data": {
      "text/plain": [
       "array([0.94359838, 0.81024413])"
      ]
     },
     "execution_count": 23,
     "metadata": {},
     "output_type": "execute_result"
    }
   ],
   "execution_count": 23
  },
  {
   "metadata": {
    "ExecuteTime": {
     "end_time": "2024-10-28T23:36:03.113646Z",
     "start_time": "2024-10-28T23:36:03.106816Z"
    }
   },
   "cell_type": "code",
   "source": "np.random.rand(3,4)",
   "id": "d279c0e1424ebc00",
   "outputs": [
    {
     "data": {
      "text/plain": [
       "array([[0.73926183, 0.98929933, 0.23256109, 0.06453589],\n",
       "       [0.29813374, 0.94890618, 0.08020811, 0.84507613],\n",
       "       [0.44522567, 0.8414364 , 0.97536985, 0.28129605]])"
      ]
     },
     "execution_count": 24,
     "metadata": {},
     "output_type": "execute_result"
    }
   ],
   "execution_count": 24
  },
  {
   "metadata": {
    "ExecuteTime": {
     "end_time": "2024-10-28T23:36:48.808069Z",
     "start_time": "2024-10-28T23:36:48.803639Z"
    }
   },
   "cell_type": "code",
   "source": "np.random.randn(5,5)",
   "id": "6da73ef1b674c452",
   "outputs": [
    {
     "data": {
      "text/plain": [
       "array([[ 1.54608153,  1.51426286,  0.91656692, -0.17042262,  0.82203652],\n",
       "       [ 0.64594467, -0.47435748,  0.6286807 , -0.82850675, -1.31506001],\n",
       "       [-0.05241715,  1.06511846, -0.04515874,  1.41101495, -0.9171242 ],\n",
       "       [-0.26794882,  0.91621088,  1.80205215, -1.46067844,  0.44706116],\n",
       "       [ 1.46384573,  1.60274979, -0.98013479,  0.25041681,  1.59847684]])"
      ]
     },
     "execution_count": 26,
     "metadata": {},
     "output_type": "execute_result"
    }
   ],
   "execution_count": 26
  },
  {
   "metadata": {
    "ExecuteTime": {
     "end_time": "2024-10-28T23:38:34.700711Z",
     "start_time": "2024-10-28T23:38:34.692206Z"
    }
   },
   "cell_type": "code",
   "source": "np.random.randint(1,100,(15,3)) ##gerar um valor aleatório dentro de um range",
   "id": "c0a50823dc190bc3",
   "outputs": [
    {
     "data": {
      "text/plain": [
       "array([[ 8, 61, 92],\n",
       "       [53, 69, 27],\n",
       "       [42, 89, 47],\n",
       "       [83, 76, 71],\n",
       "       [17, 30, 26],\n",
       "       [96, 76, 96],\n",
       "       [45, 74, 33],\n",
       "       [ 8, 24, 92],\n",
       "       [66, 61, 99],\n",
       "       [39, 61, 34],\n",
       "       [71, 47, 54],\n",
       "       [91, 41, 21],\n",
       "       [49, 36, 19],\n",
       "       [58, 87, 38],\n",
       "       [37, 99,  7]])"
      ]
     },
     "execution_count": 33,
     "metadata": {},
     "output_type": "execute_result"
    }
   ],
   "execution_count": 33
  },
  {
   "metadata": {
    "ExecuteTime": {
     "end_time": "2024-10-28T23:39:26.474603Z",
     "start_time": "2024-10-28T23:39:26.468718Z"
    }
   },
   "cell_type": "code",
   "source": [
    "np.random.seed(42)\n",
    "np.random.rand(4)\n"
   ],
   "id": "57092b3dd68d6393",
   "outputs": [
    {
     "data": {
      "text/plain": [
       "array([0.37454012, 0.95071431, 0.73199394, 0.59865848])"
      ]
     },
     "execution_count": 36,
     "metadata": {},
     "output_type": "execute_result"
    }
   ],
   "execution_count": 36
  },
  {
   "metadata": {
    "ExecuteTime": {
     "end_time": "2024-10-28T23:41:00.756688Z",
     "start_time": "2024-10-28T23:41:00.748232Z"
    }
   },
   "cell_type": "code",
   "source": "np.random.rand(4)",
   "id": "b94ed0fe37e6e28e",
   "outputs": [
    {
     "data": {
      "text/plain": [
       "array([0.15601864, 0.15599452, 0.05808361, 0.86617615])"
      ]
     },
     "execution_count": 37,
     "metadata": {},
     "output_type": "execute_result"
    }
   ],
   "execution_count": 37
  },
  {
   "metadata": {
    "ExecuteTime": {
     "end_time": "2024-10-28T23:41:47.247050Z",
     "start_time": "2024-10-28T23:41:47.243962Z"
    }
   },
   "cell_type": "code",
   "source": "arr = np.arange(25)",
   "id": "db85f328ca57f691",
   "outputs": [],
   "execution_count": 38
  },
  {
   "metadata": {
    "ExecuteTime": {
     "end_time": "2024-10-28T23:42:20.263278Z",
     "start_time": "2024-10-28T23:42:20.257828Z"
    }
   },
   "cell_type": "code",
   "source": "ranarr = np.random.randint(0,50,10)",
   "id": "e872f66dd787bed0",
   "outputs": [],
   "execution_count": 41
  },
  {
   "metadata": {
    "ExecuteTime": {
     "end_time": "2024-10-28T23:42:30.355188Z",
     "start_time": "2024-10-28T23:42:30.347218Z"
    }
   },
   "cell_type": "code",
   "source": "arr.shape",
   "id": "4f7f39483ca9a4d6",
   "outputs": [
    {
     "data": {
      "text/plain": [
       "array([ 0,  1,  2,  3,  4,  5,  6,  7,  8,  9, 10, 11, 12, 13, 14, 15, 16,\n",
       "       17, 18, 19, 20, 21, 22, 23, 24])"
      ]
     },
     "execution_count": 43,
     "metadata": {},
     "output_type": "execute_result"
    }
   ],
   "execution_count": 43
  },
  {
   "metadata": {
    "ExecuteTime": {
     "end_time": "2024-10-28T23:42:21.766620Z",
     "start_time": "2024-10-28T23:42:21.756819Z"
    }
   },
   "cell_type": "code",
   "source": "ranarr",
   "id": "3583c8e32721d31f",
   "outputs": [
    {
     "data": {
      "text/plain": [
       "array([35, 39, 23,  2, 21,  1, 23, 43, 29, 37])"
      ]
     },
     "execution_count": 42,
     "metadata": {},
     "output_type": "execute_result"
    }
   ],
   "execution_count": 42
  },
  {
   "metadata": {
    "ExecuteTime": {
     "end_time": "2024-10-28T23:42:43.192571Z",
     "start_time": "2024-10-28T23:42:43.187657Z"
    }
   },
   "cell_type": "code",
   "source": "arr.shape",
   "id": "c82ca856027cf273",
   "outputs": [
    {
     "data": {
      "text/plain": [
       "(25,)"
      ]
     },
     "execution_count": 44,
     "metadata": {},
     "output_type": "execute_result"
    }
   ],
   "execution_count": 44
  },
  {
   "metadata": {
    "ExecuteTime": {
     "end_time": "2024-10-28T23:43:34.539356Z",
     "start_time": "2024-10-28T23:43:34.530139Z"
    }
   },
   "cell_type": "code",
   "source": " arr.reshape(5,5)",
   "id": "df7366a67597af50",
   "outputs": [
    {
     "data": {
      "text/plain": [
       "array([[ 0,  1,  2,  3,  4],\n",
       "       [ 5,  6,  7,  8,  9],\n",
       "       [10, 11, 12, 13, 14],\n",
       "       [15, 16, 17, 18, 19],\n",
       "       [20, 21, 22, 23, 24]])"
      ]
     },
     "execution_count": 47,
     "metadata": {},
     "output_type": "execute_result"
    }
   ],
   "execution_count": 47
  },
  {
   "metadata": {
    "ExecuteTime": {
     "end_time": "2024-10-28T23:44:11.225711Z",
     "start_time": "2024-10-28T23:44:11.221578Z"
    }
   },
   "cell_type": "code",
   "source": "ranarr",
   "id": "d3e304fe796f25cd",
   "outputs": [
    {
     "data": {
      "text/plain": [
       "array([35, 39, 23,  2, 21,  1, 23, 43, 29, 37])"
      ]
     },
     "execution_count": 48,
     "metadata": {},
     "output_type": "execute_result"
    }
   ],
   "execution_count": 48
  },
  {
   "metadata": {
    "ExecuteTime": {
     "end_time": "2024-10-28T23:44:19.293123Z",
     "start_time": "2024-10-28T23:44:19.287077Z"
    }
   },
   "cell_type": "code",
   "source": "ranarr.max() #Max Value",
   "id": "d83c666ba80f4196",
   "outputs": [
    {
     "data": {
      "text/plain": [
       "43"
      ]
     },
     "execution_count": 49,
     "metadata": {},
     "output_type": "execute_result"
    }
   ],
   "execution_count": 49
  },
  {
   "metadata": {
    "ExecuteTime": {
     "end_time": "2024-10-28T23:44:35.574218Z",
     "start_time": "2024-10-28T23:44:35.567094Z"
    }
   },
   "cell_type": "code",
   "source": "ranarr.argmax()   #Index of Max value",
   "id": "fa60bd7ffc0e30ea",
   "outputs": [
    {
     "data": {
      "text/plain": [
       "7"
      ]
     },
     "execution_count": 50,
     "metadata": {},
     "output_type": "execute_result"
    }
   ],
   "execution_count": 50
  },
  {
   "metadata": {
    "ExecuteTime": {
     "end_time": "2024-10-28T23:45:31.614400Z",
     "start_time": "2024-10-28T23:45:31.606355Z"
    }
   },
   "cell_type": "code",
   "source": "ranarr.min() #min value",
   "id": "590c5ff035fa1ef8",
   "outputs": [
    {
     "data": {
      "text/plain": [
       "1"
      ]
     },
     "execution_count": 52,
     "metadata": {},
     "output_type": "execute_result"
    }
   ],
   "execution_count": 52
  },
  {
   "metadata": {
    "ExecuteTime": {
     "end_time": "2024-10-28T23:46:15.554401Z",
     "start_time": "2024-10-28T23:46:15.546147Z"
    }
   },
   "cell_type": "code",
   "source": "ranarr.argmin() # Index of Min Value",
   "id": "ff6e54e6eb771e6b",
   "outputs": [
    {
     "data": {
      "text/plain": [
       "5"
      ]
     },
     "execution_count": 54,
     "metadata": {},
     "output_type": "execute_result"
    }
   ],
   "execution_count": 54
  },
  {
   "metadata": {
    "ExecuteTime": {
     "end_time": "2024-10-28T23:46:23.198221Z",
     "start_time": "2024-10-28T23:46:23.191129Z"
    }
   },
   "cell_type": "code",
   "source": "ranarr.dtype",
   "id": "f2c45f52c929a9da",
   "outputs": [
    {
     "data": {
      "text/plain": [
       "dtype('int64')"
      ]
     },
     "execution_count": 55,
     "metadata": {},
     "output_type": "execute_result"
    }
   ],
   "execution_count": 55
  },
  {
   "metadata": {
    "ExecuteTime": {
     "end_time": "2024-10-28T23:46:55.129481Z",
     "start_time": "2024-10-28T23:46:55.125308Z"
    }
   },
   "cell_type": "code",
   "source": "myarr = np.random.rand(4)",
   "id": "5d580f178ccdb1db",
   "outputs": [],
   "execution_count": 57
  },
  {
   "metadata": {
    "ExecuteTime": {
     "end_time": "2024-10-28T23:46:55.779038Z",
     "start_time": "2024-10-28T23:46:55.774070Z"
    }
   },
   "cell_type": "code",
   "source": "myarr",
   "id": "6c6da6795aa7346d",
   "outputs": [
    {
     "data": {
      "text/plain": [
       "array([7.78765841e-04, 9.92211559e-01, 6.17481510e-01, 6.11653160e-01])"
      ]
     },
     "execution_count": 58,
     "metadata": {},
     "output_type": "execute_result"
    }
   ],
   "execution_count": 58
  },
  {
   "metadata": {},
   "cell_type": "code",
   "outputs": [],
   "execution_count": null,
   "source": "",
   "id": "f2a7f6ed9b5b0baa"
  }
 ],
 "metadata": {
  "kernelspec": {
   "display_name": "Python 3",
   "language": "python",
   "name": "python3"
  },
  "language_info": {
   "codemirror_mode": {
    "name": "ipython",
    "version": 2
   },
   "file_extension": ".py",
   "mimetype": "text/x-python",
   "name": "python",
   "nbconvert_exporter": "python",
   "pygments_lexer": "ipython2",
   "version": "2.7.6"
  }
 },
 "nbformat": 4,
 "nbformat_minor": 5
}
