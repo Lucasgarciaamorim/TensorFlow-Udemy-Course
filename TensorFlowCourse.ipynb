{
 "cells": [
  {
   "metadata": {},
   "cell_type": "markdown",
   "source": "<h3> 6 -<b>NumPy Array<b> <h3>\n",
   "id": "56a3f45700b9ac8a"
  },
  {
   "metadata": {},
   "cell_type": "code",
   "source": "import numpy as np  ",
   "id": "fbc121e30a2defb3",
   "outputs": [],
   "execution_count": null
  },
  {
   "metadata": {},
   "cell_type": "code",
   "source": "mylist = [1,2,3]",
   "id": "c35f82d30fc30648",
   "outputs": [],
   "execution_count": null
  },
  {
   "metadata": {},
   "cell_type": "code",
   "source": "np.array(mylist)",
   "id": "721a3048236f494e",
   "outputs": [],
   "execution_count": null
  },
  {
   "metadata": {},
   "cell_type": "code",
   "source": "nested_list = [[1,2],[3,4],[5,6]]",
   "id": "91621ccb9bd5f88a",
   "outputs": [],
   "execution_count": null
  },
  {
   "metadata": {},
   "cell_type": "code",
   "source": "np.array(nested_list)",
   "id": "bab3769836d40a96",
   "outputs": [],
   "execution_count": null
  },
  {
   "metadata": {},
   "cell_type": "code",
   "source": "np.arange(0,10)",
   "id": "e3b82b06d50060a6",
   "outputs": [],
   "execution_count": null
  },
  {
   "metadata": {},
   "cell_type": "code",
   "source": "np.arange(0,11,2)",
   "id": "e354b7cdebc19b63",
   "outputs": [],
   "execution_count": null
  },
  {
   "metadata": {},
   "cell_type": "code",
   "source": "np.zeros(3)",
   "id": "8034e9e243f35aa0",
   "outputs": [],
   "execution_count": null
  },
  {
   "metadata": {},
   "cell_type": "code",
   "source": "np.zeros((4,10))",
   "id": "2276f9b1c8b3dbcc",
   "outputs": [],
   "execution_count": null
  },
  {
   "metadata": {},
   "cell_type": "code",
   "source": "np.ones(3)",
   "id": "20ebff9e781e965c",
   "outputs": [],
   "execution_count": null
  },
  {
   "metadata": {},
   "cell_type": "code",
   "source": "np.ones((4,4))",
   "id": "fd105ebe9e2f62fd",
   "outputs": [],
   "execution_count": null
  },
  {
   "metadata": {},
   "cell_type": "code",
   "source": "np.linspace(0,10,21)",
   "id": "fe2510c0e073384c",
   "outputs": [],
   "execution_count": null
  },
  {
   "metadata": {},
   "cell_type": "code",
   "source": "np.eye(5)",
   "id": "5c78c0f9ac5bc22e",
   "outputs": [],
   "execution_count": null
  },
  {
   "metadata": {},
   "cell_type": "code",
   "source": "np.random.rand(2)",
   "id": "515f0d1e52836b3a",
   "outputs": [],
   "execution_count": null
  },
  {
   "metadata": {},
   "cell_type": "code",
   "source": "np.random.rand(3,4)",
   "id": "d279c0e1424ebc00",
   "outputs": [],
   "execution_count": null
  },
  {
   "metadata": {},
   "cell_type": "code",
   "source": "np.random.randn(5,5)",
   "id": "6da73ef1b674c452",
   "outputs": [],
   "execution_count": null
  },
  {
   "metadata": {},
   "cell_type": "code",
   "source": "np.random.randint(1,100,(15,3)) ##gerar um valor aleatório dentro de um range",
   "id": "c0a50823dc190bc3",
   "outputs": [],
   "execution_count": null
  },
  {
   "metadata": {},
   "cell_type": "code",
   "source": [
    "np.random.seed(42)\n",
    "np.random.rand(4)\n"
   ],
   "id": "57092b3dd68d6393",
   "outputs": [],
   "execution_count": null
  },
  {
   "metadata": {},
   "cell_type": "code",
   "source": "np.random.rand(4)",
   "id": "b94ed0fe37e6e28e",
   "outputs": [],
   "execution_count": null
  },
  {
   "metadata": {},
   "cell_type": "code",
   "source": "arr = np.arange(25)",
   "id": "db85f328ca57f691",
   "outputs": [],
   "execution_count": null
  },
  {
   "metadata": {},
   "cell_type": "code",
   "source": "ranarr = np.random.randint(0,50,10)",
   "id": "e872f66dd787bed0",
   "outputs": [],
   "execution_count": null
  },
  {
   "metadata": {},
   "cell_type": "code",
   "source": "arr.shape",
   "id": "4f7f39483ca9a4d6",
   "outputs": [],
   "execution_count": null
  },
  {
   "metadata": {},
   "cell_type": "code",
   "source": "ranarr",
   "id": "3583c8e32721d31f",
   "outputs": [],
   "execution_count": null
  },
  {
   "metadata": {},
   "cell_type": "code",
   "source": "arr.shape",
   "id": "c82ca856027cf273",
   "outputs": [],
   "execution_count": null
  },
  {
   "metadata": {
    "ExecuteTime": {
     "end_time": "2024-10-28T23:53:00.263924Z",
     "start_time": "2024-10-28T23:53:00.241748Z"
    }
   },
   "cell_type": "code",
   "source": " arr.reshape(5,5)",
   "id": "df7366a67597af50",
   "outputs": [
    {
     "data": {
      "text/plain": [
       "array([[ 0,  1,  2,  3,  4],\n",
       "       [ 5,  6,  7,  8,  9],\n",
       "       [10, 11, 12, 13, 14],\n",
       "       [15, 16, 17, 18, 19],\n",
       "       [20, 21, 22, 23, 24]])"
      ]
     },
     "execution_count": 64,
     "metadata": {},
     "output_type": "execute_result"
    }
   ],
   "execution_count": 64
  },
  {
   "metadata": {},
   "cell_type": "code",
   "source": "ranarr",
   "id": "d3e304fe796f25cd",
   "outputs": [],
   "execution_count": null
  },
  {
   "metadata": {},
   "cell_type": "code",
   "source": "ranarr.max() #Max Value",
   "id": "d83c666ba80f4196",
   "outputs": [],
   "execution_count": null
  },
  {
   "metadata": {},
   "cell_type": "code",
   "source": "ranarr.argmax()   #Index of Max value",
   "id": "fa60bd7ffc0e30ea",
   "outputs": [],
   "execution_count": null
  },
  {
   "metadata": {},
   "cell_type": "code",
   "source": "ranarr.min() #min value",
   "id": "590c5ff035fa1ef8",
   "outputs": [],
   "execution_count": null
  },
  {
   "metadata": {},
   "cell_type": "code",
   "source": "ranarr.argmin() # Index of Min Value",
   "id": "ff6e54e6eb771e6b",
   "outputs": [],
   "execution_count": null
  },
  {
   "metadata": {},
   "cell_type": "code",
   "source": "ranarr.dtype",
   "id": "f2c45f52c929a9da",
   "outputs": [],
   "execution_count": null
  },
  {
   "metadata": {},
   "cell_type": "code",
   "source": "myarr = np.random.rand(4)",
   "id": "5d580f178ccdb1db",
   "outputs": [],
   "execution_count": null
  },
  {
   "metadata": {},
   "cell_type": "code",
   "source": "myarr",
   "id": "6c6da6795aa7346d",
   "outputs": [],
   "execution_count": null
  },
  {
   "metadata": {},
   "cell_type": "markdown",
   "source": "<h1> 7 - NumPy Index Selection",
   "id": "7db133fab8188d1b"
  },
  {
   "metadata": {},
   "cell_type": "markdown",
   "source": "",
   "id": "788bed1cec945d37"
  },
  {
   "metadata": {
    "ExecuteTime": {
     "end_time": "2024-10-29T01:01:55.250319Z",
     "start_time": "2024-10-29T01:01:55.246968Z"
    }
   },
   "cell_type": "code",
   "source": "import numpy as np",
   "id": "85872fd5c0eef129",
   "outputs": [],
   "execution_count": 3
  },
  {
   "metadata": {
    "ExecuteTime": {
     "end_time": "2024-10-29T01:01:53.330940Z",
     "start_time": "2024-10-29T01:01:53.327976Z"
    }
   },
   "cell_type": "code",
   "source": "arr = np.arange(0,11)",
   "id": "22b338af2dc7fcc9",
   "outputs": [],
   "execution_count": 2
  },
  {
   "metadata": {
    "ExecuteTime": {
     "end_time": "2024-10-29T01:01:56.267464Z",
     "start_time": "2024-10-29T01:01:56.261139Z"
    }
   },
   "cell_type": "code",
   "source": "arr",
   "id": "aafd4bc862a98eaf",
   "outputs": [
    {
     "data": {
      "text/plain": [
       "array([ 0,  1,  2,  3,  4,  5,  6,  7,  8,  9, 10])"
      ]
     },
     "execution_count": 4,
     "metadata": {},
     "output_type": "execute_result"
    }
   ],
   "execution_count": 4
  },
  {
   "metadata": {
    "ExecuteTime": {
     "end_time": "2024-10-29T01:02:09.305413Z",
     "start_time": "2024-10-29T01:02:09.301080Z"
    }
   },
   "cell_type": "code",
   "source": "arr[8]",
   "id": "6b3e0c30df1e7318",
   "outputs": [
    {
     "data": {
      "text/plain": [
       "8"
      ]
     },
     "execution_count": 5,
     "metadata": {},
     "output_type": "execute_result"
    }
   ],
   "execution_count": 5
  },
  {
   "metadata": {
    "ExecuteTime": {
     "end_time": "2024-10-29T01:02:25.747735Z",
     "start_time": "2024-10-29T01:02:25.742900Z"
    }
   },
   "cell_type": "code",
   "source": "arr[1:5]",
   "id": "b66d4f965afae16f",
   "outputs": [
    {
     "data": {
      "text/plain": [
       "array([1, 2, 3, 4])"
      ]
     },
     "execution_count": 6,
     "metadata": {},
     "output_type": "execute_result"
    }
   ],
   "execution_count": 6
  },
  {
   "metadata": {
    "ExecuteTime": {
     "end_time": "2024-10-29T01:02:40.005555Z",
     "start_time": "2024-10-29T01:02:39.999501Z"
    }
   },
   "cell_type": "code",
   "source": "arr[0:5]",
   "id": "881eb26f596868e6",
   "outputs": [
    {
     "data": {
      "text/plain": [
       "array([0, 1, 2, 3, 4])"
      ]
     },
     "execution_count": 7,
     "metadata": {},
     "output_type": "execute_result"
    }
   ],
   "execution_count": 7
  },
  {
   "metadata": {
    "ExecuteTime": {
     "end_time": "2024-10-29T01:02:51.032475Z",
     "start_time": "2024-10-29T01:02:51.028539Z"
    }
   },
   "cell_type": "code",
   "source": "arr[:5]",
   "id": "a430e6a98d6a0302",
   "outputs": [
    {
     "data": {
      "text/plain": [
       "array([0, 1, 2, 3, 4])"
      ]
     },
     "execution_count": 8,
     "metadata": {},
     "output_type": "execute_result"
    }
   ],
   "execution_count": 8
  },
  {
   "metadata": {
    "ExecuteTime": {
     "end_time": "2024-10-29T01:03:02.696499Z",
     "start_time": "2024-10-29T01:03:02.691473Z"
    }
   },
   "cell_type": "code",
   "source": "arr[5:]",
   "id": "d7bdddb51354d06",
   "outputs": [
    {
     "data": {
      "text/plain": [
       "array([ 5,  6,  7,  8,  9, 10])"
      ]
     },
     "execution_count": 9,
     "metadata": {},
     "output_type": "execute_result"
    }
   ],
   "execution_count": 9
  },
  {
   "metadata": {
    "ExecuteTime": {
     "end_time": "2024-10-29T01:03:57.765843Z",
     "start_time": "2024-10-29T01:03:57.761878Z"
    }
   },
   "cell_type": "code",
   "source": "arr[0:5] = 100",
   "id": "7cf36b50195627e2",
   "outputs": [],
   "execution_count": 11
  },
  {
   "metadata": {
    "ExecuteTime": {
     "end_time": "2024-10-29T01:03:58.632411Z",
     "start_time": "2024-10-29T01:03:58.628366Z"
    }
   },
   "cell_type": "code",
   "source": "arr",
   "id": "892c2dbeee2c0b1e",
   "outputs": [
    {
     "data": {
      "text/plain": [
       "array([100, 100, 100, 100, 100,   5,   6,   7,   8,   9,  10])"
      ]
     },
     "execution_count": 12,
     "metadata": {},
     "output_type": "execute_result"
    }
   ],
   "execution_count": 12
  },
  {
   "metadata": {
    "ExecuteTime": {
     "end_time": "2024-10-29T01:04:17.153826Z",
     "start_time": "2024-10-29T01:04:17.151178Z"
    }
   },
   "cell_type": "code",
   "source": "arr = np.arange(0,11)",
   "id": "4a176aaa7f0e805",
   "outputs": [],
   "execution_count": 13
  },
  {
   "metadata": {
    "ExecuteTime": {
     "end_time": "2024-10-29T01:04:56.177024Z",
     "start_time": "2024-10-29T01:04:56.173701Z"
    }
   },
   "cell_type": "code",
   "source": "slice_off_arr = arr[0:5]",
   "id": "6e45686afd6163f5",
   "outputs": [],
   "execution_count": 16
  },
  {
   "metadata": {
    "ExecuteTime": {
     "end_time": "2024-10-29T01:05:03.307723Z",
     "start_time": "2024-10-29T01:05:03.302739Z"
    }
   },
   "cell_type": "code",
   "source": "slice_off_arr",
   "id": "33388c1fcbdd6b3a",
   "outputs": [
    {
     "data": {
      "text/plain": [
       "array([0, 1, 2, 3, 4])"
      ]
     },
     "execution_count": 17,
     "metadata": {},
     "output_type": "execute_result"
    }
   ],
   "execution_count": 17
  },
  {
   "metadata": {
    "ExecuteTime": {
     "end_time": "2024-10-29T01:05:12.338156Z",
     "start_time": "2024-10-29T01:05:12.334144Z"
    }
   },
   "cell_type": "code",
   "source": "arr",
   "id": "390c8e2831996aa1",
   "outputs": [
    {
     "data": {
      "text/plain": [
       "array([ 0,  1,  2,  3,  4,  5,  6,  7,  8,  9, 10])"
      ]
     },
     "execution_count": 18,
     "metadata": {},
     "output_type": "execute_result"
    }
   ],
   "execution_count": 18
  },
  {
   "metadata": {
    "ExecuteTime": {
     "end_time": "2024-10-29T01:05:24.457500Z",
     "start_time": "2024-10-29T01:05:24.453835Z"
    }
   },
   "cell_type": "code",
   "source": "slice_off_arr[:] = 99",
   "id": "c07f60fbe46d6f17",
   "outputs": [],
   "execution_count": 19
  },
  {
   "metadata": {
    "ExecuteTime": {
     "end_time": "2024-10-29T01:05:32.635364Z",
     "start_time": "2024-10-29T01:05:32.630956Z"
    }
   },
   "cell_type": "code",
   "source": "slice_off_arr",
   "id": "c69babc65c068e45",
   "outputs": [
    {
     "data": {
      "text/plain": [
       "array([99, 99, 99, 99, 99])"
      ]
     },
     "execution_count": 20,
     "metadata": {},
     "output_type": "execute_result"
    }
   ],
   "execution_count": 20
  },
  {
   "metadata": {
    "ExecuteTime": {
     "end_time": "2024-10-29T01:05:35.308373Z",
     "start_time": "2024-10-29T01:05:35.302472Z"
    }
   },
   "cell_type": "code",
   "source": "arr",
   "id": "31b4777cdd95e404",
   "outputs": [
    {
     "data": {
      "text/plain": [
       "array([99, 99, 99, 99, 99,  5,  6,  7,  8,  9, 10])"
      ]
     },
     "execution_count": 21,
     "metadata": {},
     "output_type": "execute_result"
    }
   ],
   "execution_count": 21
  },
  {
   "metadata": {
    "ExecuteTime": {
     "end_time": "2024-10-29T01:06:27.351210Z",
     "start_time": "2024-10-29T01:06:27.348472Z"
    }
   },
   "cell_type": "code",
   "source": "arr_copy = arr.copy()",
   "id": "266aa0caff74a8d5",
   "outputs": [],
   "execution_count": 22
  },
  {
   "metadata": {
    "ExecuteTime": {
     "end_time": "2024-10-29T01:06:42.798275Z",
     "start_time": "2024-10-29T01:06:42.795578Z"
    }
   },
   "cell_type": "code",
   "source": "arr_copy[:]=100",
   "id": "583a79a4ec7e198c",
   "outputs": [],
   "execution_count": 24
  },
  {
   "metadata": {
    "ExecuteTime": {
     "end_time": "2024-10-29T01:06:50.492561Z",
     "start_time": "2024-10-29T01:06:50.488221Z"
    }
   },
   "cell_type": "code",
   "source": "arr_copy",
   "id": "881a900f6ab2e9b9",
   "outputs": [
    {
     "data": {
      "text/plain": [
       "array([100, 100, 100, 100, 100, 100, 100, 100, 100, 100, 100])"
      ]
     },
     "execution_count": 26,
     "metadata": {},
     "output_type": "execute_result"
    }
   ],
   "execution_count": 26
  },
  {
   "metadata": {
    "ExecuteTime": {
     "end_time": "2024-10-29T01:06:55.967761Z",
     "start_time": "2024-10-29T01:06:55.962793Z"
    }
   },
   "cell_type": "code",
   "source": "arr",
   "id": "c670c85009e3e3d3",
   "outputs": [
    {
     "data": {
      "text/plain": [
       "array([99, 99, 99, 99, 99,  5,  6,  7,  8,  9, 10])"
      ]
     },
     "execution_count": 28,
     "metadata": {},
     "output_type": "execute_result"
    }
   ],
   "execution_count": 28
  },
  {
   "metadata": {
    "ExecuteTime": {
     "end_time": "2024-10-29T01:07:52.332248Z",
     "start_time": "2024-10-29T01:07:52.329066Z"
    }
   },
   "cell_type": "code",
   "source": "arr_2d = np.array([[5,10,15],[20,25,30],[35,40,45]])",
   "id": "c3fc4bbda405e5ed",
   "outputs": [],
   "execution_count": 30
  },
  {
   "metadata": {
    "ExecuteTime": {
     "end_time": "2024-10-29T01:08:10.744219Z",
     "start_time": "2024-10-29T01:08:10.739449Z"
    }
   },
   "cell_type": "code",
   "source": "arr_2d",
   "id": "95b96a51ab8277bf",
   "outputs": [
    {
     "data": {
      "text/plain": [
       "array([[ 5, 10, 15],\n",
       "       [20, 25, 30],\n",
       "       [35, 40, 45]])"
      ]
     },
     "execution_count": 32,
     "metadata": {},
     "output_type": "execute_result"
    }
   ],
   "execution_count": 32
  },
  {
   "metadata": {
    "ExecuteTime": {
     "end_time": "2024-10-29T01:08:25.935608Z",
     "start_time": "2024-10-29T01:08:25.931136Z"
    }
   },
   "cell_type": "code",
   "source": "arr_2d.shape",
   "id": "21f71d59226cf6b8",
   "outputs": [
    {
     "data": {
      "text/plain": [
       "(3, 3)"
      ]
     },
     "execution_count": 34,
     "metadata": {},
     "output_type": "execute_result"
    }
   ],
   "execution_count": 34
  },
  {
   "metadata": {
    "ExecuteTime": {
     "end_time": "2024-10-29T01:09:34.218823Z",
     "start_time": "2024-10-29T01:09:34.213408Z"
    }
   },
   "cell_type": "code",
   "source": "arr_2d[0,2]",
   "id": "6c39ae20ba998407",
   "outputs": [
    {
     "data": {
      "text/plain": [
       "15"
      ]
     },
     "execution_count": 51,
     "metadata": {},
     "output_type": "execute_result"
    }
   ],
   "execution_count": 51
  },
  {
   "metadata": {
    "ExecuteTime": {
     "end_time": "2024-10-29T01:10:56.345077Z",
     "start_time": "2024-10-29T01:10:56.340024Z"
    }
   },
   "cell_type": "code",
   "source": "arr_2d[:2,1:]",
   "id": "f58e0481ef970490",
   "outputs": [
    {
     "data": {
      "text/plain": [
       "array([[10, 15],\n",
       "       [25, 30]])"
      ]
     },
     "execution_count": 56,
     "metadata": {},
     "output_type": "execute_result"
    }
   ],
   "execution_count": 56
  },
  {
   "metadata": {
    "ExecuteTime": {
     "end_time": "2024-10-29T01:11:09.913467Z",
     "start_time": "2024-10-29T01:11:09.908423Z"
    }
   },
   "cell_type": "code",
   "source": "arr = np.arange(1,11)",
   "id": "162774ea5529362d",
   "outputs": [],
   "execution_count": 58
  },
  {
   "metadata": {
    "ExecuteTime": {
     "end_time": "2024-10-29T01:11:15.548070Z",
     "start_time": "2024-10-29T01:11:15.543472Z"
    }
   },
   "cell_type": "code",
   "source": "arr",
   "id": "4aac5194c768c1fb",
   "outputs": [
    {
     "data": {
      "text/plain": [
       "array([ 1,  2,  3,  4,  5,  6,  7,  8,  9, 10])"
      ]
     },
     "execution_count": 61,
     "metadata": {},
     "output_type": "execute_result"
    }
   ],
   "execution_count": 61
  },
  {
   "metadata": {
    "ExecuteTime": {
     "end_time": "2024-10-29T01:11:36.390440Z",
     "start_time": "2024-10-29T01:11:36.384493Z"
    }
   },
   "cell_type": "code",
   "source": "arr > 4",
   "id": "6575a10138244529",
   "outputs": [
    {
     "data": {
      "text/plain": [
       "array([False, False, False, False,  True,  True,  True,  True,  True,\n",
       "        True])"
      ]
     },
     "execution_count": 64,
     "metadata": {},
     "output_type": "execute_result"
    }
   ],
   "execution_count": 64
  },
  {
   "metadata": {
    "ExecuteTime": {
     "end_time": "2024-10-29T01:11:44.990416Z",
     "start_time": "2024-10-29T01:11:44.986712Z"
    }
   },
   "cell_type": "code",
   "source": "bool_arr = arr>4",
   "id": "dff5bfc4801df61",
   "outputs": [],
   "execution_count": 66
  },
  {
   "metadata": {
    "ExecuteTime": {
     "end_time": "2024-10-29T01:11:49.808561Z",
     "start_time": "2024-10-29T01:11:49.801716Z"
    }
   },
   "cell_type": "code",
   "source": "bool_arr",
   "id": "c129b5433144eaf6",
   "outputs": [
    {
     "data": {
      "text/plain": [
       "array([False, False, False, False,  True,  True,  True,  True,  True,\n",
       "        True])"
      ]
     },
     "execution_count": 68,
     "metadata": {},
     "output_type": "execute_result"
    }
   ],
   "execution_count": 68
  },
  {
   "metadata": {
    "ExecuteTime": {
     "end_time": "2024-10-29T01:12:30.999187Z",
     "start_time": "2024-10-29T01:12:30.993529Z"
    }
   },
   "cell_type": "code",
   "source": "arr[bool_arr]",
   "id": "dc785057a772dc07",
   "outputs": [
    {
     "data": {
      "text/plain": [
       "array([ 5,  6,  7,  8,  9, 10])"
      ]
     },
     "execution_count": 71,
     "metadata": {},
     "output_type": "execute_result"
    }
   ],
   "execution_count": 71
  },
  {
   "metadata": {
    "ExecuteTime": {
     "end_time": "2024-10-29T01:12:34.156799Z",
     "start_time": "2024-10-29T01:12:34.148029Z"
    }
   },
   "cell_type": "code",
   "source": "arr[arr>4]",
   "id": "39c9f51a6a44abac",
   "outputs": [
    {
     "data": {
      "text/plain": [
       "array([ 5,  6,  7,  8,  9, 10])"
      ]
     },
     "execution_count": 72,
     "metadata": {},
     "output_type": "execute_result"
    }
   ],
   "execution_count": 72
  }
 ],
 "metadata": {
  "kernelspec": {
   "display_name": "Python 3",
   "language": "python",
   "name": "python3"
  },
  "language_info": {
   "codemirror_mode": {
    "name": "ipython",
    "version": 2
   },
   "file_extension": ".py",
   "mimetype": "text/x-python",
   "name": "python",
   "nbconvert_exporter": "python",
   "pygments_lexer": "ipython2",
   "version": "2.7.6"
  }
 },
 "nbformat": 4,
 "nbformat_minor": 5
}
